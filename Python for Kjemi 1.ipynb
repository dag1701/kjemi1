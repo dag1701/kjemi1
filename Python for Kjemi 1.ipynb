{
 "cells": [
  {
   "cell_type": "markdown",
   "id": "40553127",
   "metadata": {},
   "source": [
    "# Programmering i Kjemi 1\n",
    "\n",
    "Her kan du lage og kjøre programmer i python for Kjemi 1. Støttede biblioteker er numpy, matplotlib, chemlib og pHCalc.\n",
    "\n",
    "NB! Ingenting av det du lager her vil bli lagret. Husk å kopiere kildekoden du lager over i et lokalt dokument på din egen datamaskin hvis du vil ta vare på den.\n",
    "\n",
    "__Hint__: Se i lynkurset fra lærebokforlaget hvordan du kan bruke chemlib.\n",
    "\n",
    "[Lynkurs i chemlib](https://kjemienstemmer.cappelendamm.no/en/seksjon/t-2905475/leksjon/t-2918994/spa-leksjon-tekst/t-2919044(aktivitet:t-2918994))"
   ]
  },
  {
   "cell_type": "code",
   "execution_count": null,
   "id": "1c086460",
   "metadata": {},
   "outputs": [],
   "source": [
    "#Her kan du skrive pythonkode.\n"
   ]
  }
 ],
 "metadata": {
  "kernelspec": {
   "display_name": "Python 3 (ipykernel)",
   "language": "python",
   "name": "python3"
  },
  "language_info": {
   "codemirror_mode": {
    "name": "ipython",
    "version": 3
   },
   "file_extension": ".py",
   "mimetype": "text/x-python",
   "name": "python",
   "nbconvert_exporter": "python",
   "pygments_lexer": "ipython3",
   "version": "3.10.6"
  }
 },
 "nbformat": 4,
 "nbformat_minor": 5
}
