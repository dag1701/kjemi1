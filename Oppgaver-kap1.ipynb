{
 "cells": [
  {
   "cell_type": "markdown",
   "id": "f9b7f9dc",
   "metadata": {},
   "source": [
    "# Koding og simmulering i Kjemi 1\n",
    "\n",
    "## Kapittel 1\n",
    "\n",
    "### Om chemlib\n",
    "\n",
    "Chemlib er et bibliotek i python som gir oss muligheten til å utforske en del egenskaper ved grunnstoffene.\n",
    "\n",
    "[Lynkurs i bruk av chemlib hos lærebokforlaget](https://kjemienstemmer.cappelendamm.no/en/seksjon/t-2907300/leksjon/t-2918994/leksjon-introduksjon(aktivitet:t-2918994)\n",
    "\n",
    "Eksempel der vi får ut den del info om grunnstoffet bly, Pb:\n"
   ]
  },
  {
   "cell_type": "code",
   "execution_count": 1,
   "id": "f19eb2a0",
   "metadata": {},
   "outputs": [
    {
     "name": "stdout",
     "output_type": "stream",
     "text": [
      "Engelsk navn:  Lead\n",
      "Antall protoner:  82\n",
      "Antall elektroner:  82\n",
      "Er et metall:  True\n",
      "Elektronkonfigurasjon:  [Xe] 4f14 5d10 6s2 6p2\n"
     ]
    }
   ],
   "source": [
    "from chemlib import Element\n",
    "\n",
    "n = \"Pb\" \n",
    "\n",
    "# n = input(\"Skriv inn det kjemiske symbolet til grunnstoffet du vil se på: \")\n",
    "\n",
    "#Skriver ut navnet på grunnstoffet på engelsk\n",
    "print(\"Engelsk navn: \", Element(n).Element)\n",
    "\n",
    "#Skriver ut antallet protoner\n",
    "print(\"Antall protoner: \", Element(n).Protons)\n",
    "\n",
    "\n",
    "#Skriver ut antallet elektroner\n",
    "print(\"Antall elektroner: \", Element(n).Electrons)\n",
    "Element(n).Electrons\n",
    "\n",
    "#Sjekker om grunnstoffet er et metall\n",
    "print(\"Er et metall: \", Element(n).Metal)\n",
    "\n",
    "#Skriver ut elektronkonfigurasjonen\n",
    "print(\"Elektronkonfigurasjon: \", Element(n).Config)\n",
    "\n"
   ]
  },
  {
   "cell_type": "markdown",
   "id": "57a9ff2c",
   "metadata": {},
   "source": [
    "## Oppgave\n",
    "\n",
    "Gjør om på programmet over slik at du kan skrive inn hvilket som helst grunnstoff. \n",
    "\n",
    ">Hint: fjern \\# tegnet i linjen:\n",
    ">\n",
    ">`# n = input(\"Skriv inn det kjemiske symbolet til grunnstoffet du vil se på: \")`\n",
    "\n",
    "## Oppgave 1.16.1 - 1.16.4 i studieheftet\n",
    "Du finner oppgaveteksten i studieboken på side 26.\n",
    "\n",
    "Gjør oppgave 1.16.1 - 1.16.4.\n",
    "\n",
    "Du kan gjøre oppgavene i kodefeltet under:"
   ]
  },
  {
   "cell_type": "code",
   "execution_count": null,
   "id": "77773afc",
   "metadata": {},
   "outputs": [],
   "source": []
  }
 ],
 "metadata": {
  "kernelspec": {
   "display_name": "Python 3 (ipykernel)",
   "language": "python",
   "name": "python3"
  },
  "language_info": {
   "codemirror_mode": {
    "name": "ipython",
    "version": 3
   },
   "file_extension": ".py",
   "mimetype": "text/x-python",
   "name": "python",
   "nbconvert_exporter": "python",
   "pygments_lexer": "ipython3",
   "version": "3.10.6"
  }
 },
 "nbformat": 4,
 "nbformat_minor": 5
}
